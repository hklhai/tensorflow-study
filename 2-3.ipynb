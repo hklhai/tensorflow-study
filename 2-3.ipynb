{
 "cells": [
  {
   "cell_type": "code",
   "execution_count": 1,
   "metadata": {},
   "outputs": [
    {
     "name": "stdout",
     "output_type": "stream",
     "text": [
      "[15.0, 5.0]\n"
     ]
    }
   ],
   "source": [
    "import tensorflow as tf\n",
    "\n",
    "t1=tf.constant(3.0)\n",
    "t2=tf.constant(2.0)\n",
    "t3=tf.constant(5.0) \n",
    "\n",
    "add=tf.add(t1,t2)\n",
    "mul=tf.multiply(t1,add)\n",
    "\n",
    "with tf.Session() as sess:\n",
    "    # 可以同时运行多个op\n",
    "    res=sess.run([mul,add])\n",
    "    print(res)"
   ]
  },
  {
   "cell_type": "code",
   "execution_count": 2,
   "metadata": {},
   "outputs": [
    {
     "name": "stdout",
     "output_type": "stream",
     "text": [
      "[6.]\n"
     ]
    }
   ],
   "source": [
    "in1 = tf.placeholder(tf.float32)\n",
    "in2 = tf.placeholder(tf.float32)\n",
    "\n",
    "mul = tf.multiply(in1,in2)\n",
    "with tf.Session() as sess:\n",
    "    res = sess.run(mul,feed_dict={in1:[2.],in2:[3.]})\n",
    "    print(res)"
   ]
  },
  {
   "cell_type": "code",
   "execution_count": null,
   "metadata": {},
   "outputs": [],
   "source": []
  }
 ],
 "metadata": {
  "kernelspec": {
   "display_name": "Python 3",
   "language": "python",
   "name": "python3"
  },
  "language_info": {
   "codemirror_mode": {
    "name": "ipython",
    "version": 3
   },
   "file_extension": ".py",
   "mimetype": "text/x-python",
   "name": "python",
   "nbconvert_exporter": "python",
   "pygments_lexer": "ipython3",
   "version": "3.6.4"
  }
 },
 "nbformat": 4,
 "nbformat_minor": 2
}
