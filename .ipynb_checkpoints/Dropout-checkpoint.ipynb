{
 "cells": [
  {
   "cell_type": "code",
   "execution_count": 1,
   "metadata": {
    "collapsed": true
   },
   "outputs": [],
   "source": [
    "import tensorflow as tf\n",
    "from tensorflow.examples.tutorials.mnist import input_data"
   ]
  },
  {
   "cell_type": "code",
   "execution_count": null,
   "metadata": {
    "collapsed": false
   },
   "outputs": [
    {
     "name": "stdout",
     "output_type": "stream",
     "text": [
      "Extracting MNIST_data\\train-images-idx3-ubyte.gz\n",
      "Extracting MNIST_data\\train-labels-idx1-ubyte.gz\n",
      "Extracting MNIST_data\\t10k-images-idx3-ubyte.gz\n",
      "Extracting MNIST_data\\t10k-labels-idx1-ubyte.gz\n"
     ]
    }
   ],
   "source": [
    "\n",
    "mnist=input_data.read_data_sets(\"MNIST_data\",one_hot=True)\n",
    "# 定义每个批次的大小\n",
    "batch_size = 100\n",
    "# //整除\n",
    "n_batch = mnist.train.num_examples // batch_size\n",
    "\n",
    "# 定义连个placeholder\n",
    "x = tf.placeholder(tf.float32,[None,784])\n",
    "y = tf.placeholder(tf.float32,[None,10])\n",
    "keep_prob = tf.placeholder(tf.float32)\n",
    "\n",
    "# 创建简单神经网络 初始化为0.1、初始化为截断的正太分布\n",
    "w1 = tf.Variable(tf.truncated_normal([784,2000],stddev=0.1))\n",
    "b1 = tf.Variable(tf.zeros([2000])+0.1)\n",
    "# 激活函数双曲正切激活函数\n",
    "L1 = tf.nn.softmax(tf.matmul(x,w1)+b1)\n",
    "# 设置百分之多少的神经元工作1.0,0.5\n",
    "L1_drop = tf.nn.dropout(L1,keep_prob)\n",
    "\n",
    "\n",
    "# w2 = tf.Variable(tf.truncated_normal([2000,2000],stddev=0.1))\n",
    "# b2 = tf.Variable(tf.zeros([2000])+0.1)\n",
    "# L2 = tf.nn.softmax(tf.matmul(L1_drop,w2)+b2)\n",
    "# L2_drop = tf.nn.dropout(L2,keep_prob)\n",
    "\n",
    "\n",
    "# w3 = tf.Variable(tf.truncated_normal([2000,1000],stddev=0.1))\n",
    "# b3 = tf.Variable(tf.zeros([1000])+0.1)\n",
    "# L3 = tf.nn.softmax(tf.matmul(L1_drop,w3)+b3)\n",
    "# L3_drop = tf.nn.dropout(L3,keep_prob)\n",
    "\n",
    "\n",
    "w4 = tf.Variable(tf.truncated_normal([2000,10],stddev=0.1))\n",
    "b4 = tf.Variable(tf.zeros([10])+0.1)\n",
    "prediction = tf.nn.softmax(tf.matmul(L1_drop,w4)+b4)\n",
    "\n",
    "# 二次代价函数\n",
    "# loss = tf.reduce_mean(tf.square(y-prediction))\n",
    "# 二次代价函数改为\n",
    "loss=tf.reduce_mean(tf.nn.softmax_cross_entropy_with_logits(labels =y,logits=prediction))\n",
    "\n",
    "\n",
    "# 使用梯度下降发\n",
    "train_step = tf.train.GradientDescentOptimizer(10).minimize(loss)\n",
    "\n",
    "# 计算准确率 argmax返回一维张量中最大的值所在的位置\n",
    "correct_prediction=tf.equal(tf.argmax(y,1),tf.argmax(prediction,1))\n",
    "\n",
    "# 求准确率  \n",
    "accuracy = tf.reduce_mean(tf.cast(correct_prediction,tf.float32))\n",
    "\n",
    "\n",
    "with tf.Session() as s:\n",
    "    s.run(tf.global_variables_initializer())\n",
    "    # 训练21个周期\n",
    "    for epoch in range(31):\n",
    "        # 所有图片训练一次\n",
    "        for batch in range(n_batch):\n",
    "            # 图片数据保存在batch_xs，图片标签保存在batch_ys\n",
    "            batch_xs,batch_ys = mnist.train.next_batch(batch_size)\n",
    "            s.run(train_step,feed_dict={x:batch_xs,y:batch_ys,keep_prob:1.0})\n",
    "            \n",
    "        # 训练一个周期后测试一下准确率\n",
    "        test_acc = s.run(accuracy,feed_dict={x:mnist.test.images,y:mnist.test.labels,keep_prob:1.0})\n",
    "        train_acc = s.run(accuracy,feed_dict={x:mnist.train.images,y:mnist.train.labels,keep_prob:1.0})\n",
    "        print(\"Iter:\"+str(epoch)+\",Testing Accuracy:\"+str(test_acc)+\"   \"+\"Iter:\"+str(epoch)+\",Train Accuracy:\"+str(train_acc))"
   ]
  },
  {
   "cell_type": "code",
   "execution_count": null,
   "metadata": {
    "collapsed": true
   },
   "outputs": [],
   "source": []
  }
 ],
 "metadata": {
  "anaconda-cloud": {},
  "kernelspec": {
   "display_name": "Python [default]",
   "language": "python",
   "name": "python3"
  },
  "language_info": {
   "codemirror_mode": {
    "name": "ipython",
    "version": 3
   },
   "file_extension": ".py",
   "mimetype": "text/x-python",
   "name": "python",
   "nbconvert_exporter": "python",
   "pygments_lexer": "ipython3",
   "version": "3.5.2"
  }
 },
 "nbformat": 4,
 "nbformat_minor": 1
}
