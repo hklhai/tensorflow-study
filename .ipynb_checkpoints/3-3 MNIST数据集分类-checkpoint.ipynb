{
 "cells": [
  {
   "cell_type": "code",
   "execution_count": 1,
   "metadata": {},
   "outputs": [
    {
     "name": "stdout",
     "output_type": "stream",
     "text": [
      "WARNING:tensorflow:From D:\\Program\\Anaconda3\\lib\\site-packages\\tensorflow\\contrib\\learn\\python\\learn\\datasets\\base.py:198: retry (from tensorflow.contrib.learn.python.learn.datasets.base) is deprecated and will be removed in a future version.\n",
      "Instructions for updating:\n",
      "Use the retry module or similar alternatives.\n"
     ]
    }
   ],
   "source": [
    "import tensorflow as tf\n",
    "from tensorflow.examples.tutorials.mnist import input_data\n"
   ]
  },
  {
   "cell_type": "code",
   "execution_count": 2,
   "metadata": {},
   "outputs": [
    {
     "name": "stdout",
     "output_type": "stream",
     "text": [
      "WARNING:tensorflow:From <ipython-input-2-7e83e51a8c29>:1: read_data_sets (from tensorflow.contrib.learn.python.learn.datasets.mnist) is deprecated and will be removed in a future version.\n",
      "Instructions for updating:\n",
      "Please use alternatives such as official/mnist/dataset.py from tensorflow/models.\n",
      "WARNING:tensorflow:From D:\\Program\\Anaconda3\\lib\\site-packages\\tensorflow\\contrib\\learn\\python\\learn\\datasets\\mnist.py:260: maybe_download (from tensorflow.contrib.learn.python.learn.datasets.base) is deprecated and will be removed in a future version.\n",
      "Instructions for updating:\n",
      "Please write your own downloading logic.\n",
      "WARNING:tensorflow:From D:\\Program\\Anaconda3\\lib\\site-packages\\tensorflow\\contrib\\learn\\python\\learn\\datasets\\mnist.py:262: extract_images (from tensorflow.contrib.learn.python.learn.datasets.mnist) is deprecated and will be removed in a future version.\n",
      "Instructions for updating:\n",
      "Please use tf.data to implement this functionality.\n",
      "Extracting MNIST_data\\train-images-idx3-ubyte.gz\n",
      "WARNING:tensorflow:From D:\\Program\\Anaconda3\\lib\\site-packages\\tensorflow\\contrib\\learn\\python\\learn\\datasets\\mnist.py:267: extract_labels (from tensorflow.contrib.learn.python.learn.datasets.mnist) is deprecated and will be removed in a future version.\n",
      "Instructions for updating:\n",
      "Please use tf.data to implement this functionality.\n",
      "Extracting MNIST_data\\train-labels-idx1-ubyte.gz\n",
      "WARNING:tensorflow:From D:\\Program\\Anaconda3\\lib\\site-packages\\tensorflow\\contrib\\learn\\python\\learn\\datasets\\mnist.py:110: dense_to_one_hot (from tensorflow.contrib.learn.python.learn.datasets.mnist) is deprecated and will be removed in a future version.\n",
      "Instructions for updating:\n",
      "Please use tf.one_hot on tensors.\n",
      "Extracting MNIST_data\\t10k-images-idx3-ubyte.gz\n",
      "Extracting MNIST_data\\t10k-labels-idx1-ubyte.gz\n",
      "WARNING:tensorflow:From D:\\Program\\Anaconda3\\lib\\site-packages\\tensorflow\\contrib\\learn\\python\\learn\\datasets\\mnist.py:290: DataSet.__init__ (from tensorflow.contrib.learn.python.learn.datasets.mnist) is deprecated and will be removed in a future version.\n",
      "Instructions for updating:\n",
      "Please use alternatives such as official/mnist/dataset.py from tensorflow/models.\n"
     ]
    }
   ],
   "source": [
    "mnist=input_data.read_data_sets(\"MNIST_data\",one_hot=True)"
   ]
  },
  {
   "cell_type": "code",
   "execution_count": 4,
   "metadata": {},
   "outputs": [
    {
     "name": "stdout",
     "output_type": "stream",
     "text": [
      "Iter:0,Testing Accuracy:0.8339\n",
      "Iter:1,Testing Accuracy:0.8704\n",
      "Iter:2,Testing Accuracy:0.8812\n",
      "Iter:3,Testing Accuracy:0.889\n",
      "Iter:4,Testing Accuracy:0.8943\n",
      "Iter:5,Testing Accuracy:0.8968\n",
      "Iter:6,Testing Accuracy:0.9\n",
      "Iter:7,Testing Accuracy:0.9017\n",
      "Iter:8,Testing Accuracy:0.9039\n",
      "Iter:9,Testing Accuracy:0.9056\n",
      "Iter:10,Testing Accuracy:0.9064\n",
      "Iter:11,Testing Accuracy:0.9074\n",
      "Iter:12,Testing Accuracy:0.9076\n",
      "Iter:13,Testing Accuracy:0.9095\n",
      "Iter:14,Testing Accuracy:0.9101\n",
      "Iter:15,Testing Accuracy:0.9107\n",
      "Iter:16,Testing Accuracy:0.9116\n",
      "Iter:17,Testing Accuracy:0.9128\n",
      "Iter:18,Testing Accuracy:0.9127\n",
      "Iter:19,Testing Accuracy:0.9134\n",
      "Iter:20,Testing Accuracy:0.9138\n"
     ]
    }
   ],
   "source": [
    "# 定义每个批次的大小\n",
    "batch_size = 100\n",
    "# //整除\n",
    "n_batch = mnist.train.num_examples // batch_size\n",
    "\n",
    "# 定义连个placeholder\n",
    "x = tf.placeholder(tf.float32,[None,784])\n",
    "y = tf.placeholder(tf.float32,[None,10])\n",
    "\n",
    "# 创建简单神经网络\n",
    "w = tf.Variable(tf.zeros([784,10]))\n",
    "b = tf.Variable(tf.zeros([10]))\n",
    "prediction = tf.nn.softmax(tf.matmul(x,w)+b)\n",
    "\n",
    "# 二次代价函数\n",
    "loss = tf.reduce_mean(tf.square(y-prediction))\n",
    "# 使用梯度下降发\n",
    "train_step = tf.train.GradientDescentOptimizer(0.2).minimize(loss)\n",
    "\n",
    "# 计算准确率  argmax返回一维张量中最大的值所在的位置\n",
    "# 0 1 0 ... tf.argmax(y,1)返回2；tf.argmax(prediction,1) 通过softmax后最大概率的识别结果；比较识别是否正确\n",
    "# 结果存放在bool列表中\n",
    "correct_prediction=tf.equal(tf.argmax(y,1),tf.argmax(prediction,1))\n",
    "\n",
    "# 求准确率  \n",
    "# cast转换类型，将bool类型转换成32为浮点型（true变为1.0，false变为0. 0）\n",
    "accuracy = tf.reduce_mean(tf.cast(correct_prediction,tf.float32))\n",
    "\n",
    "\n",
    "with tf.Session() as s:\n",
    "    s.run(tf.global_variables_initializer())\n",
    "    # 训练21个周期\n",
    "    for epoch in range(21):\n",
    "        # 所有图片训练一次\n",
    "        for batch in range(n_batch):\n",
    "            # 图片数据保存在batch_xs，图片标签保存在batch_ys\n",
    "            batch_xs,batch_ys = mnist.train.next_batch(batch_size)\n",
    "            s.run(train_step,feed_dict={x:batch_xs,y:batch_ys})\n",
    "            \n",
    "        # 训练一个周期后测试一下准确率\n",
    "        acc = s.run(accuracy,feed_dict={x:mnist.test.images,y:mnist.test.labels})\n",
    "        print(\"Iter:\"+str(epoch)+\",Testing Accuracy:\"+str(acc))"
   ]
  },
  {
   "cell_type": "code",
   "execution_count": null,
   "metadata": {},
   "outputs": [],
   "source": []
  }
 ],
 "metadata": {
  "kernelspec": {
   "display_name": "Python 3",
   "language": "python",
   "name": "python3"
  },
  "language_info": {
   "codemirror_mode": {
    "name": "ipython",
    "version": 3
   },
   "file_extension": ".py",
   "mimetype": "text/x-python",
   "name": "python",
   "nbconvert_exporter": "python",
   "pygments_lexer": "ipython3",
   "version": "3.6.4"
  }
 },
 "nbformat": 4,
 "nbformat_minor": 1
}
