{
 "cells": [
  {
   "cell_type": "code",
   "execution_count": 1,
   "metadata": {
    "collapsed": true
   },
   "outputs": [],
   "source": [
    "from gensim.models import word2vec\n",
    "import logging\n",
    "\n",
    "logging.basicConfig(format=\"%(asctime)s : %(levelname)s : %(message)s\",level=logging.INFO)\n"
   ]
  },
  {
   "cell_type": "code",
   "execution_count": 7,
   "metadata": {
    "collapsed": false
   },
   "outputs": [
    {
     "name": "stdout",
     "output_type": "stream",
     "text": [
      "[['The', 'country', 'plans', 'to', 'cut', 'business', 'costs', 'such', 'as', 'charges', 'for', 'electricity', 'use'], ['logistics', 'and', 'intermediary', 'services']]\n"
     ]
    }
   ],
   "source": [
    "raw_sentences = [\"The country plans to cut business costs such as charges for electricity use\",\"logistics and intermediary services\"]\n",
    "sentences = [s.split() for s in raw_sentences]\n",
    "print(sentences)"
   ]
  },
  {
   "cell_type": "code",
   "execution_count": 9,
   "metadata": {
    "collapsed": false
   },
   "outputs": [
    {
     "name": "stderr",
     "output_type": "stream",
     "text": [
      "2018-04-27 08:27:10,752 : INFO : collecting all words and their counts\n",
      "2018-04-27 08:27:10,753 : INFO : PROGRESS: at sentence #0, processed 0 words, keeping 0 word types\n",
      "2018-04-27 08:27:10,754 : INFO : collected 17 word types from a corpus of 17 raw words and 2 sentences\n",
      "2018-04-27 08:27:10,755 : INFO : Loading a fresh vocabulary\n",
      "2018-04-27 08:27:10,755 : INFO : min_count=1 retains 17 unique words (100% of original 17, drops 0)\n",
      "2018-04-27 08:27:10,757 : INFO : min_count=1 leaves 17 word corpus (100% of original 17, drops 0)\n",
      "2018-04-27 08:27:10,757 : INFO : deleting the raw counts dictionary of 17 items\n",
      "2018-04-27 08:27:10,758 : INFO : sample=0.001 downsamples 17 most-common words\n",
      "2018-04-27 08:27:10,759 : INFO : downsampling leaves estimated 2 word corpus (14.7% of prior 17)\n",
      "2018-04-27 08:27:10,760 : INFO : estimated required memory for 17 words and 100 dimensions: 22100 bytes\n",
      "2018-04-27 08:27:10,760 : INFO : resetting layer weights\n",
      "2018-04-27 08:27:10,762 : INFO : training model with 3 workers on 17 vocabulary and 100 features, using sg=0 hs=0 sample=0.001 negative=5 window=5\n",
      "2018-04-27 08:27:10,769 : INFO : worker thread finished; awaiting finish of 2 more threads\n",
      "2018-04-27 08:27:10,770 : INFO : worker thread finished; awaiting finish of 1 more threads\n",
      "2018-04-27 08:27:10,771 : INFO : worker thread finished; awaiting finish of 0 more threads\n",
      "2018-04-27 08:27:10,772 : INFO : EPOCH - 1 : training on 17 raw words (2 effective words) took 0.0s, 508 effective words/s\n",
      "2018-04-27 08:27:10,780 : INFO : worker thread finished; awaiting finish of 2 more threads\n",
      "2018-04-27 08:27:10,782 : INFO : worker thread finished; awaiting finish of 1 more threads\n",
      "2018-04-27 08:27:10,783 : INFO : worker thread finished; awaiting finish of 0 more threads\n",
      "2018-04-27 08:27:10,785 : INFO : EPOCH - 2 : training on 17 raw words (3 effective words) took 0.0s, 527 effective words/s\n",
      "2018-04-27 08:27:10,788 : INFO : worker thread finished; awaiting finish of 2 more threads\n",
      "2018-04-27 08:27:10,790 : INFO : worker thread finished; awaiting finish of 1 more threads\n",
      "2018-04-27 08:27:10,791 : INFO : worker thread finished; awaiting finish of 0 more threads\n",
      "2018-04-27 08:27:10,792 : INFO : EPOCH - 3 : training on 17 raw words (1 effective words) took 0.0s, 341 effective words/s\n",
      "2018-04-27 08:27:10,796 : INFO : worker thread finished; awaiting finish of 2 more threads\n",
      "2018-04-27 08:27:10,797 : INFO : worker thread finished; awaiting finish of 1 more threads\n",
      "2018-04-27 08:27:10,798 : INFO : worker thread finished; awaiting finish of 0 more threads\n",
      "2018-04-27 08:27:10,798 : INFO : EPOCH - 4 : training on 17 raw words (2 effective words) took 0.0s, 648 effective words/s\n",
      "2018-04-27 08:27:10,802 : INFO : worker thread finished; awaiting finish of 2 more threads\n",
      "2018-04-27 08:27:10,804 : INFO : worker thread finished; awaiting finish of 1 more threads\n",
      "2018-04-27 08:27:10,804 : INFO : worker thread finished; awaiting finish of 0 more threads\n",
      "2018-04-27 08:27:10,805 : INFO : EPOCH - 5 : training on 17 raw words (2 effective words) took 0.0s, 589 effective words/s\n",
      "2018-04-27 08:27:10,806 : INFO : training on a 85 raw words (10 effective words) took 0.0s, 235 effective words/s\n",
      "2018-04-27 08:27:10,806 : WARNING : under 10 jobs per worker: consider setting a smaller `batch_words' for smoother alpha decay\n"
     ]
    }
   ],
   "source": [
    "model = word2vec.Word2Vec(sentences, min_count=1)"
   ]
  },
  {
   "cell_type": "code",
   "execution_count": 12,
   "metadata": {
    "collapsed": false
   },
   "outputs": [
    {
     "name": "stderr",
     "output_type": "stream",
     "text": [
      "D:\\Program Files\\Anaconda3\\lib\\site-packages\\ipykernel\\__main__.py:1: DeprecationWarning: Call to deprecated `similarity` (Method will be removed in 4.0.0, use self.wv.similarity() instead).\n",
      "  if __name__ == '__main__':\n"
     ]
    },
    {
     "data": {
      "text/plain": [
       "-0.0036166190993725932"
      ]
     },
     "execution_count": 12,
     "metadata": {},
     "output_type": "execute_result"
    }
   ],
   "source": [
    "model.similarity(\"country\",\"plans\")"
   ]
  },
  {
   "cell_type": "code",
   "execution_count": null,
   "metadata": {
    "collapsed": true
   },
   "outputs": [],
   "source": []
  }
 ],
 "metadata": {
  "anaconda-cloud": {},
  "kernelspec": {
   "display_name": "Python [default]",
   "language": "python",
   "name": "python3"
  },
  "language_info": {
   "codemirror_mode": {
    "name": "ipython",
    "version": 3
   },
   "file_extension": ".py",
   "mimetype": "text/x-python",
   "name": "python",
   "nbconvert_exporter": "python",
   "pygments_lexer": "ipython3",
   "version": "3.5.2"
  }
 },
 "nbformat": 4,
 "nbformat_minor": 1
}
