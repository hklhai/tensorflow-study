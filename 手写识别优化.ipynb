{
 "cells": [
  {
   "cell_type": "code",
   "execution_count": 2,
   "metadata": {
    "collapsed": false
   },
   "outputs": [],
   "source": [
    "import tensorflow as tf"
   ]
  },
  {
   "cell_type": "code",
   "execution_count": 3,
   "metadata": {
    "collapsed": false
   },
   "outputs": [],
   "source": [
    "from tensorflow.examples.tutorials.mnist import input_data"
   ]
  },
  {
   "cell_type": "code",
   "execution_count": 4,
   "metadata": {
    "collapsed": false
   },
   "outputs": [
    {
     "name": "stdout",
     "output_type": "stream",
     "text": [
      "Extracting MNIST_data\\train-images-idx3-ubyte.gz\n",
      "Extracting MNIST_data\\train-labels-idx1-ubyte.gz\n",
      "Extracting MNIST_data\\t10k-images-idx3-ubyte.gz\n",
      "Extracting MNIST_data\\t10k-labels-idx1-ubyte.gz\n",
      "Iter:0,Testing Accuracy:0.8203\n",
      "Iter:1,Testing Accuracy:0.8284\n",
      "Iter:2,Testing Accuracy:0.8314\n",
      "Iter:3,Testing Accuracy:0.8338\n",
      "Iter:4,Testing Accuracy:0.8335\n",
      "Iter:5,Testing Accuracy:0.8355\n",
      "Iter:6,Testing Accuracy:0.835\n",
      "Iter:7,Testing Accuracy:0.8376\n",
      "Iter:8,Testing Accuracy:0.8368\n",
      "Iter:9,Testing Accuracy:0.8377\n",
      "Iter:10,Testing Accuracy:0.8385\n",
      "Iter:11,Testing Accuracy:0.8365\n",
      "Iter:12,Testing Accuracy:0.8384\n",
      "Iter:13,Testing Accuracy:0.8353\n",
      "Iter:14,Testing Accuracy:0.8361\n",
      "Iter:15,Testing Accuracy:0.8383\n",
      "Iter:16,Testing Accuracy:0.8382\n",
      "Iter:17,Testing Accuracy:0.8351\n",
      "Iter:18,Testing Accuracy:0.8366\n",
      "Iter:19,Testing Accuracy:0.8389\n",
      "Iter:20,Testing Accuracy:0.8359\n"
     ]
    }
   ],
   "source": [
    "\n",
    "mnist=input_data.read_data_sets(\"MNIST_data\",one_hot=True)\n",
    "# 定义每个批次的大小\n",
    "batch_size = 100\n",
    "# //整除\n",
    "n_batch = mnist.train.num_examples // batch_size\n",
    "\n",
    "# 定义连个placeholder\n",
    "x = tf.placeholder(tf.float32,[None,784])\n",
    "y = tf.placeholder(tf.float32,[None,10])\n",
    "\n",
    "# 创建简单神经网络\n",
    "w = tf.Variable(tf.zeros([784,10]))\n",
    "b = tf.Variable(tf.zeros([10]))\n",
    "prediction = tf.nn.softmax(tf.matmul(x,w)+b)\n",
    "\n",
    "# 二次代价函数\n",
    "# loss = tf.reduce_mean(tf.square(y-prediction))\n",
    "# 二次代价函数改为\n",
    "loss=tf.reduce_mean(tf.nn.softmax_cross_entropy_with_logits(labels =y,logits=prediction))\n",
    "\n",
    "\n",
    "# 使用梯度下降发\n",
    "train_step = tf.train.GradientDescentOptimizer(10).minimize(loss)\n",
    "\n",
    "# 计算准确率 argmax返回一维张量中最大的值所在的位置\n",
    "correct_prediction=tf.equal(tf.argmax(y,1),tf.argmax(prediction,1))\n",
    "\n",
    "# 求准确率  \n",
    "accuracy = tf.reduce_mean(tf.cast(correct_prediction,tf.float32))\n",
    "\n",
    "\n",
    "with tf.Session() as s:\n",
    "    s.run(tf.global_variables_initializer())\n",
    "    # 训练21个周期\n",
    "    for epoch in range(21):\n",
    "        # 所有图片训练一次\n",
    "        for batch in range(n_batch):\n",
    "            # 图片数据保存在batch_xs，图片标签保存在batch_ys\n",
    "            batch_xs,batch_ys = mnist.train.next_batch(batch_size)\n",
    "            s.run(train_step,feed_dict={x:batch_xs,y:batch_ys})\n",
    "            \n",
    "        # 训练一个周期后测试一下准确率\n",
    "        acc = s.run(accuracy,feed_dict={x:mnist.test.images,y:mnist.test.labels})\n",
    "        print(\"Iter:\"+str(epoch)+\",Testing Accuracy:\"+str(acc))\n",
    "            "
   ]
  },
  {
   "cell_type": "code",
   "execution_count": null,
   "metadata": {
    "collapsed": true
   },
   "outputs": [],
   "source": []
  },
  {
   "cell_type": "code",
   "execution_count": null,
   "metadata": {
    "collapsed": true
   },
   "outputs": [],
   "source": []
  },
  {
   "cell_type": "code",
   "execution_count": null,
   "metadata": {
    "collapsed": true
   },
   "outputs": [],
   "source": []
  }
 ],
 "metadata": {
  "anaconda-cloud": {},
  "kernelspec": {
   "display_name": "Python [default]",
   "language": "python",
   "name": "python3"
  },
  "language_info": {
   "codemirror_mode": {
    "name": "ipython",
    "version": 3
   },
   "file_extension": ".py",
   "mimetype": "text/x-python",
   "name": "python",
   "nbconvert_exporter": "python",
   "pygments_lexer": "ipython3",
   "version": "3.5.2"
  }
 },
 "nbformat": 4,
 "nbformat_minor": 1
}
